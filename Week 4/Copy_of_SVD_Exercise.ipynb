{
  "nbformat": 4,
  "nbformat_minor": 0,
  "metadata": {
    "colab": {
      "provenance": [],
      "include_colab_link": true
    },
    "kernelspec": {
      "name": "python3",
      "display_name": "Python 3"
    },
    "language_info": {
      "name": "python"
    }
  },
  "cells": [
    {
      "cell_type": "markdown",
      "metadata": {
        "id": "view-in-github",
        "colab_type": "text"
      },
      "source": [
        "<a href=\"https://colab.research.google.com/github/ReemAlbluwi/Machine-Learning---T5/blob/main/Copy_of_SVD_Exercise.ipynb\" target=\"_parent\"><img src=\"https://colab.research.google.com/assets/colab-badge.svg\" alt=\"Open In Colab\"/></a>"
      ]
    },
    {
      "cell_type": "markdown",
      "source": [
        "#**SVD**"
      ],
      "metadata": {
        "id": "0PzxgQHw9ccz"
      }
    },
    {
      "cell_type": "markdown",
      "source": [
        "#import libraries"
      ],
      "metadata": {
        "id": "luFPiQ2i9myX"
      }
    },
    {
      "cell_type": "code",
      "execution_count": 10,
      "metadata": {
        "id": "G-4zglvy9WkS"
      },
      "outputs": [],
      "source": [
        "import numpy as np\n",
        "import matplotlib.pyplot as plt"
      ]
    },
    {
      "cell_type": "markdown",
      "source": [
        "#Load the tabular dataset :\n",
        "\n",
        "dataset :\n",
        "\n",
        "\n",
        "    [1, 2, 1, 0, 4],\n",
        "\n",
        "    [2, 3, 4, 0, 2],\n",
        "\n",
        "    [3, 1, 1, 0, 5],\n",
        "\n",
        "    [4, 0, 2, 5, 0],\n",
        "\n",
        "    [5, 4, 0, 1, 2]\n"
      ],
      "metadata": {
        "id": "nZFDaio79sgu"
      }
    },
    {
      "cell_type": "code",
      "source": [
        "data = np.array([\n",
        "    [1, 2, 1, 0, 4],\n",
        "    [2, 3, 4, 0, 2],\n",
        "    [3, 1, 1, 0, 5],\n",
        "    [4, 0, 2, 5, 0],\n",
        "    [5, 4, 0, 1, 2]\n",
        "])\n",
        "print(\"Original Data:\\n\", data)"
      ],
      "metadata": {
        "id": "MQ009CYG9qQS",
        "colab": {
          "base_uri": "https://localhost:8080/"
        },
        "outputId": "86510bba-fa5b-4fa7-d9e3-61925d128d1b"
      },
      "execution_count": 3,
      "outputs": [
        {
          "output_type": "stream",
          "name": "stdout",
          "text": [
            "Original Data:\n",
            " [[1 2 1 0 4]\n",
            " [2 3 4 0 2]\n",
            " [3 1 1 0 5]\n",
            " [4 0 2 5 0]\n",
            " [5 4 0 1 2]]\n"
          ]
        }
      ]
    },
    {
      "cell_type": "markdown",
      "source": [
        "#Perform Singular Value Decomposition (SVD)\n"
      ],
      "metadata": {
        "id": "2roOK1gZ9yQo"
      }
    },
    {
      "cell_type": "code",
      "source": [
        "U, S, VT = np.linalg.svd(data, full_matrices=False)\n",
        "print(\"U matrix:\\n\", U)\n",
        "print(\"Singular values:\\n\", S)\n",
        "print(\"VT matrix:\\n\", VT)"
      ],
      "metadata": {
        "id": "0I7M_W_E9vka",
        "colab": {
          "base_uri": "https://localhost:8080/"
        },
        "outputId": "2c4c20a6-dd7e-4fea-a0fe-82d2d1c38dca"
      },
      "execution_count": 4,
      "outputs": [
        {
          "output_type": "stream",
          "name": "stdout",
          "text": [
            "U matrix:\n",
            " [[-0.35204034 -0.38841088  0.06858116 -0.24890107 -0.81151061]\n",
            " [-0.435757   -0.14720066  0.75454006  0.42674571  0.19236735]\n",
            " [-0.47547476 -0.33554973 -0.14101786 -0.59405958  0.5371567 ]\n",
            " [-0.3868273   0.84326881  0.15226099 -0.31661873 -0.12582336]\n",
            " [-0.5572      0.06142506 -0.61878629  0.55025644 -0.00874639]]\n",
            "Singular values:\n",
            " [11.03193008  5.9744172   3.52502532  3.31230566  1.0980371 ]\n",
            "VT matrix:\n",
            " [[-0.63300689 -0.42745253 -0.30313804 -0.22582961 -0.5231586 ]\n",
            " [ 0.33321061 -0.21897922  0.06256248  0.71601446 -0.56958583]\n",
            " [-0.37738163 -0.06110042  0.92204884  0.04043054 -0.04517901]\n",
            " [ 0.09275077  0.72137098  0.06967495 -0.3118182  -0.60740103]\n",
            " [ 0.58073519 -0.49520004  0.2217309  -0.58091226 -0.17578369]]\n"
          ]
        }
      ]
    },
    {
      "cell_type": "markdown",
      "source": [
        "# Extract the singular values and vectors"
      ],
      "metadata": {
        "id": "5ygCLQNt96Vb"
      }
    },
    {
      "cell_type": "code",
      "source": [
        "print(\"U matrix shape:\", U.shape)\n",
        "print(\"Singular values shape:\", S.shape)\n",
        "print(\"VT matrix shape:\", VT.shape)"
      ],
      "metadata": {
        "id": "d_hE13Sn94k5",
        "colab": {
          "base_uri": "https://localhost:8080/"
        },
        "outputId": "727c26a8-43f9-46ab-e3da-f570ce158218"
      },
      "execution_count": 5,
      "outputs": [
        {
          "output_type": "stream",
          "name": "stdout",
          "text": [
            "U matrix shape: (5, 5)\n",
            "Singular values shape: (5,)\n",
            "VT matrix shape: (5, 5)\n"
          ]
        }
      ]
    },
    {
      "cell_type": "markdown",
      "source": [
        "# Perform dimensionality reduction by selecting top k singular values and vectors\n"
      ],
      "metadata": {
        "id": "piU0jgug9_gD"
      }
    },
    {
      "cell_type": "code",
      "source": [
        "k = 2\n",
        "U_k = U[:, :k]\n",
        "S_k = np.diag(S[:k])\n",
        "VT_k = VT[:k, :]"
      ],
      "metadata": {
        "id": "c55uNNCH9-5d"
      },
      "execution_count": 6,
      "outputs": []
    },
    {
      "cell_type": "code",
      "source": [
        "data_reduced = U_k @ S_k @ VT_k\n",
        "print(\"Reduced Data:\\n\", data_reduced)"
      ],
      "metadata": {
        "colab": {
          "base_uri": "https://localhost:8080/"
        },
        "id": "ciSnn3MZ1phP",
        "outputId": "8ca21129-e836-4fae-817a-417bc541222c"
      },
      "execution_count": 7,
      "outputs": [
        {
          "output_type": "stream",
          "name": "stdout",
          "text": [
            "Reduced Data:\n",
            " [[ 1.68517423  2.16823828  1.03211446 -0.78448115  3.35352314]\n",
            " [ 2.74997839  2.2474459   1.40223771  0.45592685  3.01586488]\n",
            " [ 2.65238506  2.68115204  1.46466169 -0.25083665  3.88603508]\n",
            " [ 4.38005462  0.72090701  1.60881922  4.57102627 -0.63704194]\n",
            " [ 4.0133692   2.54718625  1.88634605  1.65093492  3.00682541]]\n"
          ]
        }
      ]
    },
    {
      "cell_type": "markdown",
      "source": [
        "# Print the original and reduced datasets\n"
      ],
      "metadata": {
        "id": "4raXfdzz-Gex"
      }
    },
    {
      "cell_type": "code",
      "source": [
        "print(\"Original Data:\\n\", data)\n",
        "print(\"Reduced Data (k=2):\\n\", data_reduced)"
      ],
      "metadata": {
        "id": "c7YIIN3S-DTl",
        "colab": {
          "base_uri": "https://localhost:8080/"
        },
        "outputId": "e9b47341-28a3-4832-f47d-ad25718b4cf9"
      },
      "execution_count": 8,
      "outputs": [
        {
          "output_type": "stream",
          "name": "stdout",
          "text": [
            "Original Data:\n",
            " [[1 2 1 0 4]\n",
            " [2 3 4 0 2]\n",
            " [3 1 1 0 5]\n",
            " [4 0 2 5 0]\n",
            " [5 4 0 1 2]]\n",
            "Reduced Data (k=2):\n",
            " [[ 1.68517423  2.16823828  1.03211446 -0.78448115  3.35352314]\n",
            " [ 2.74997839  2.2474459   1.40223771  0.45592685  3.01586488]\n",
            " [ 2.65238506  2.68115204  1.46466169 -0.25083665  3.88603508]\n",
            " [ 4.38005462  0.72090701  1.60881922  4.57102627 -0.63704194]\n",
            " [ 4.0133692   2.54718625  1.88634605  1.65093492  3.00682541]]\n"
          ]
        }
      ]
    },
    {
      "cell_type": "markdown",
      "source": [
        "# Plot the original data"
      ],
      "metadata": {
        "id": "MOOS38Do3DaZ"
      }
    },
    {
      "cell_type": "code",
      "source": [
        "plt.subplot(1, 2, 1)\n",
        "plt.title(\"Original Data\")\n",
        "plt.imshow(data, aspect='auto', cmap='viridis')\n",
        "plt.colorbar()\n",
        "plt.xlabel('Features')\n",
        "plt.ylabel('Samples')"
      ],
      "metadata": {
        "colab": {
          "base_uri": "https://localhost:8080/",
          "height": 489
        },
        "id": "TDf551yp2nxw",
        "outputId": "5ef25fd8-2f4e-4807-d2d1-a4dbbf2cede0"
      },
      "execution_count": 11,
      "outputs": [
        {
          "output_type": "execute_result",
          "data": {
            "text/plain": [
              "Text(0, 0.5, 'Samples')"
            ]
          },
          "metadata": {},
          "execution_count": 11
        },
        {
          "output_type": "display_data",
          "data": {
            "text/plain": [
              "<Figure size 640x480 with 2 Axes>"
            ],
            "image/png": "[encoded data removed]"
          },
          "metadata": {}
        }
      ]
    },
    {
      "cell_type": "markdown",
      "source": [
        "# Plot the reduced data"
      ],
      "metadata": {
        "id": "oTgJLa_A3GrE"
      }
    },
    {
      "cell_type": "code",
      "source": [
        "plt.subplot(1, 2, 2)\n",
        "plt.title(\"Reduced Data (k=2)\")\n",
        "plt.imshow(data_reduced, aspect='auto', cmap='viridis')\n",
        "plt.colorbar()\n",
        "plt.xlabel('Features')\n",
        "plt.ylabel('Samples')\n",
        "\n",
        "plt.tight_layout()\n",
        "plt.show()"
      ],
      "metadata": {
        "colab": {
          "base_uri": "https://localhost:8080/",
          "height": 487
        },
        "id": "5i_hCmhS21fb",
        "outputId": "b6ed0afc-1db9-4534-cbed-ca8c8fcae2e7"
      },
      "execution_count": 12,
      "outputs": [
        {
          "output_type": "display_data",
          "data": {
            "text/plain": [
              "<Figure size 640x480 with 2 Axes>"
            ],
            "image/png": "[encoded data removed]"
          },
          "metadata": {}
        }
      ]
    },
    {
      "cell_type": "markdown",
      "source": [
        "#**Well done :)**"
      ],
      "metadata": {
        "id": "ASLB0yos-Ofm"
      }
    }
  ]
}