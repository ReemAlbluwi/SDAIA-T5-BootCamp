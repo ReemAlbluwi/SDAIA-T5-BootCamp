{
  "nbformat": 4,
  "nbformat_minor": 0,
  "metadata": {
    "colab": {
      "provenance": [],
      "authorship_tag": "ABX9TyMmTC/rCSL9nKMeiw5yu72H",
      "include_colab_link": true
    },
    "kernelspec": {
      "name": "python3",
      "display_name": "Python 3"
    },
    "language_info": {
      "name": "python"
    }
  },
  "cells": [
    {
      "cell_type": "markdown",
      "metadata": {
        "id": "view-in-github",
        "colab_type": "text"
      },
      "source": [
        "<a href=\"https://colab.research.google.com/github/ReemAlbluwi/Machine-Learning---T5/blob/main/Getting_Started_Machine_Learning_.ipynb\" target=\"_parent\"><img src=\"https://colab.research.google.com/assets/colab-badge.svg\" alt=\"Open In Colab\"/></a>"
      ]
    },
    {
      "cell_type": "markdown",
      "source": [
        "##1.Fitting and predicting: estimator basics"
      ],
      "metadata": {
        "id": "EAyRvSM8UDQk"
      }
    },
    {
      "cell_type": "markdown",
      "source": [
        "#1- 1 : Import the library to get the model:"
      ],
      "metadata": {
        "id": "rZzZHSLCUfAA"
      }
    },
    {
      "cell_type": "code",
      "source": [
        "from sklearn.ensemble import RandomForestClassifier\n",
        "\n",
        "# إنشاء نموذج RandomForestClassifier\n",
        "clf = RandomForestClassifier(random_state=0)\n"
      ],
      "metadata": {
        "id": "Q64GWrFLUdRU"
      },
      "execution_count": null,
      "outputs": []
    },
    {
      "cell_type": "markdown",
      "source": [
        "##1-2: Data definition:"
      ],
      "metadata": {
        "id": "kcKY5qKeUnCn"
      }
    },
    {
      "cell_type": "code",
      "source": [
        "# البيانات: عينتين، 3 ميزات\n",
        "X = [[1, 2, 3],\n",
        "     [11, 12, 13]]\n",
        "\n",
        "# التصنيفات لكل عينة\n",
        "y = [0, 1]\n"
      ],
      "metadata": {
        "id": "fuRj0HQMUu1c"
      },
      "execution_count": 9,
      "outputs": []
    },
    {
      "cell_type": "markdown",
      "source": [
        "# 1-3 : Model training:"
      ],
      "metadata": {
        "id": "JVAFLBxYUzpv"
      }
    },
    {
      "cell_type": "code",
      "source": [
        "# تدريب النموذج\n",
        "clf.fit(X, y)\n"
      ],
      "metadata": {
        "colab": {
          "base_uri": "https://localhost:8080/",
          "height": 74
        },
        "id": "zeWY3utNVHen",
        "outputId": "471fdb10-3d1c-4446-f76e-9af48610e4b3"
      },
      "execution_count": 10,
      "outputs": [
        {
          "output_type": "execute_result",
          "data": {
            "text/plain": [
              "RandomForestClassifier(random_state=0)"
            ],
            "text/html": [
              "<style>#sk-container-id-1 {color: black;}#sk-container-id-1 pre{padding: 0;}#sk-container-id-1 div.sk-toggleable {background-color: white;}#sk-container-id-1 label.sk-toggleable__label {cursor: pointer;display: block;width: 100%;margin-bottom: 0;padding: 0.3em;box-sizing: border-box;text-align: center;}#sk-container-id-1 label.sk-toggleable__label-arrow:before {content: \"▸\";float: left;margin-right: 0.25em;color: #696969;}#sk-container-id-1 label.sk-toggleable__label-arrow:hover:before {color: black;}#sk-container-id-1 div.sk-estimator:hover label.sk-toggleable__label-arrow:before {color: black;}#sk-container-id-1 div.sk-toggleable__content {max-height: 0;max-width: 0;overflow: hidden;text-align: left;background-color: #f0f8ff;}#sk-container-id-1 div.sk-toggleable__content pre {margin: 0.2em;color: black;border-radius: 0.25em;background-color: #f0f8ff;}#sk-container-id-1 input.sk-toggleable__control:checked~div.sk-toggleable__content {max-height: 200px;max-width: 100%;overflow: auto;}#sk-container-id-1 input.sk-toggleable__control:checked~label.sk-toggleable__label-arrow:before {content: \"▾\";}#sk-container-id-1 div.sk-estimator input.sk-toggleable__control:checked~label.sk-toggleable__label {background-color: #d4ebff;}#sk-container-id-1 div.sk-label input.sk-toggleable__control:checked~label.sk-toggleable__label {background-color: #d4ebff;}#sk-container-id-1 input.sk-hidden--visually {border: 0;clip: rect(1px 1px 1px 1px);clip: rect(1px, 1px, 1px, 1px);height: 1px;margin: -1px;overflow: hidden;padding: 0;position: absolute;width: 1px;}#sk-container-id-1 div.sk-estimator {font-family: monospace;background-color: #f0f8ff;border: 1px dotted black;border-radius: 0.25em;box-sizing: border-box;margin-bottom: 0.5em;}#sk-container-id-1 div.sk-estimator:hover {background-color: #d4ebff;}#sk-container-id-1 div.sk-parallel-item::after {content: \"\";width: 100%;border-bottom: 1px solid gray;flex-grow: 1;}#sk-container-id-1 div.sk-label:hover label.sk-toggleable__label {background-color: #d4ebff;}#sk-container-id-1 div.sk-serial::before {content: \"\";position: absolute;border-left: 1px solid gray;box-sizing: border-box;top: 0;bottom: 0;left: 50%;z-index: 0;}#sk-container-id-1 div.sk-serial {display: flex;flex-direction: column;align-items: center;background-color: white;padding-right: 0.2em;padding-left: 0.2em;position: relative;}#sk-container-id-1 div.sk-item {position: relative;z-index: 1;}#sk-container-id-1 div.sk-parallel {display: flex;align-items: stretch;justify-content: center;background-color: white;position: relative;}#sk-container-id-1 div.sk-item::before, #sk-container-id-1 div.sk-parallel-item::before {content: \"\";position: absolute;border-left: 1px solid gray;box-sizing: border-box;top: 0;bottom: 0;left: 50%;z-index: -1;}#sk-container-id-1 div.sk-parallel-item {display: flex;flex-direction: column;z-index: 1;position: relative;background-color: white;}#sk-container-id-1 div.sk-parallel-item:first-child::after {align-self: flex-end;width: 50%;}#sk-container-id-1 div.sk-parallel-item:last-child::after {align-self: flex-start;width: 50%;}#sk-container-id-1 div.sk-parallel-item:only-child::after {width: 0;}#sk-container-id-1 div.sk-dashed-wrapped {border: 1px dashed gray;margin: 0 0.4em 0.5em 0.4em;box-sizing: border-box;padding-bottom: 0.4em;background-color: white;}#sk-container-id-1 div.sk-label label {font-family: monospace;font-weight: bold;display: inline-block;line-height: 1.2em;}#sk-container-id-1 div.sk-label-container {text-align: center;}#sk-container-id-1 div.sk-container {/* jupyter's `normalize.less` sets `[hidden] { display: none; }` but bootstrap.min.css set `[hidden] { display: none !important; }` so we also need the `!important` here to be able to override the default hidden behavior on the sphinx rendered scikit-learn.org. See: https://github.com/scikit-learn/scikit-learn/issues/21755 */display: inline-block !important;position: relative;}#sk-container-id-1 div.sk-text-repr-fallback {display: none;}</style><div id=\"sk-container-id-1\" class=\"sk-top-container\"><div class=\"sk-text-repr-fallback\"><pre>RandomForestClassifier(random_state=0)</pre><b>In a Jupyter environment, please rerun this cell to show the HTML representation or trust the notebook. <br />On GitHub, the HTML representation is unable to render, please try loading this page with nbviewer.org.</b></div><div class=\"sk-container\" hidden><div class=\"sk-item\"><div class=\"sk-estimator sk-toggleable\"><input class=\"sk-toggleable__control sk-hidden--visually\" id=\"sk-estimator-id-1\" type=\"checkbox\" checked><label for=\"sk-estimator-id-1\" class=\"sk-toggleable__label sk-toggleable__label-arrow\">RandomForestClassifier</label><div class=\"sk-toggleable__content\"><pre>RandomForestClassifier(random_state=0)</pre></div></div></div></div></div>"
            ]
          },
          "metadata": {},
          "execution_count": 10
        }
      ]
    },
    {
      "cell_type": "markdown",
      "source": [
        "#1-3 : Show the trained model:"
      ],
      "metadata": {
        "id": "jfWt_B2hVRjO"
      }
    },
    {
      "cell_type": "code",
      "source": [
        "print(clf)\n"
      ],
      "metadata": {
        "colab": {
          "base_uri": "https://localhost:8080/"
        },
        "id": "CgZIeqqYVQRb",
        "outputId": "d8b91f82-6d84-4174-8235-8464ea0d777b"
      },
      "execution_count": 11,
      "outputs": [
        {
          "output_type": "stream",
          "name": "stdout",
          "text": [
            "RandomForestClassifier(random_state=0)\n"
          ]
        }
      ]
    },
    {
      "cell_type": "code",
      "source": [
        "# التنبؤ بفئات بيانات جديدة\n",
        "predictions = clf.predict([[5, 6, 7], [15, 16, 17]])\n",
        "print(predictions)\n"
      ],
      "metadata": {
        "colab": {
          "base_uri": "https://localhost:8080/"
        },
        "id": "fcpFeOzJVgq2",
        "outputId": "220599a7-c966-44fc-a6c5-f2d53ca12fbd"
      },
      "execution_count": 12,
      "outputs": [
        {
          "output_type": "stream",
          "name": "stdout",
          "text": [
            "[0 1]\n"
          ]
        }
      ]
    },
    {
      "cell_type": "code",
      "source": [
        "clf.predict(X)  # يتوقع: [0, 1]\n"
      ],
      "metadata": {
        "colab": {
          "base_uri": "https://localhost:8080/"
        },
        "id": "Sd1LX1LeVyl9",
        "outputId": "81098a05-68cf-44d3-e233-6cfe354e8455"
      },
      "execution_count": 13,
      "outputs": [
        {
          "output_type": "execute_result",
          "data": {
            "text/plain": [
              "array([0, 1])"
            ]
          },
          "metadata": {},
          "execution_count": 13
        }
      ]
    },
    {
      "cell_type": "code",
      "source": [
        "clf.predict([[4, 5, 6], [14, 15, 16]])  # يتوقع: [0, 1]\n"
      ],
      "metadata": {
        "colab": {
          "base_uri": "https://localhost:8080/"
        },
        "id": "3zMdVHX-V0B5",
        "outputId": "edcb829e-9451-4c5e-c2d6-20a9d5e2af33"
      },
      "execution_count": 14,
      "outputs": [
        {
          "output_type": "execute_result",
          "data": {
            "text/plain": [
              "array([0, 1])"
            ]
          },
          "metadata": {},
          "execution_count": 14
        }
      ]
    },
    {
      "cell_type": "markdown",
      "source": [
        "## 2 : Transformers and pre-processors"
      ],
      "metadata": {
        "id": "RaK6WsVkV6-t"
      }
    },
    {
      "cell_type": "code",
      "source": [
        "from sklearn.preprocessing import StandardScaler\n",
        "\n",
        "# تعريف البيانات\n",
        "X = [[0, 15],\n",
        "     [1, -10]]\n",
        "\n",
        "# إنشاء كائن StandardScaler وتدريب النموذج عليه\n",
        "scaler = StandardScaler()\n",
        "scaler.fit(X)\n",
        "\n",
        "# تطبيق التقييس على البيانات\n",
        "scaled_X = scaler.transform(X)\n",
        "\n",
        "# عرض البيانات بعد التقييس\n",
        "print(scaled_X)\n"
      ],
      "metadata": {
        "colab": {
          "base_uri": "https://localhost:8080/"
        },
        "id": "U5EPAbtBV3y0",
        "outputId": "4d2d27ba-e3d0-4ad0-a768-ad247be8e7fa"
      },
      "execution_count": 15,
      "outputs": [
        {
          "output_type": "stream",
          "name": "stdout",
          "text": [
            "[[-1.  1.]\n",
            " [ 1. -1.]]\n"
          ]
        }
      ]
    },
    {
      "cell_type": "markdown",
      "source": [
        "## 3: Pipelines: chaining pre-processors and estimators"
      ],
      "metadata": {
        "id": "89TYBn6aWa5F"
      }
    },
    {
      "cell_type": "code",
      "source": [
        "from sklearn.preprocessing import StandardScaler\n",
        "from sklearn.linear_model import LogisticRegression\n",
        "from sklearn.pipeline import make_pipeline\n",
        "from sklearn.datasets import load_iris\n",
        "from sklearn.model_selection import train_test_split\n",
        "from sklearn.metrics import accuracy_score\n",
        "\n",
        "# إنشاء كائن Pipeline يتضمن تقييس البيانات باستخدام StandardScaler\n",
        "# وتطبيق الانحدار اللوجستي باستخدام LogisticRegression\n",
        "pipe = make_pipeline(\n",
        "    StandardScaler(),\n",
        "    LogisticRegression()\n",
        ")\n",
        "\n",
        "# تحميل مجموعة بيانات الأيريس وتقسيمها إلى بيانات وملصقات\n",
        "X, y = load_iris(return_X_y=True)\n",
        "\n",
        "# تقسيم البيانات إلى مجموعة تدريب واختبار\n",
        "X_train, X_test, y_train, y_test = train_test_split(X, y, random_state=0)\n",
        "\n",
        "# تدريب النموذج باستخدام البيانات التدريبية\n",
        "pipe.fit(X_train, y_train)\n",
        "\n",
        "# حساب دقة النموذج على مجموعة الاختبار\n",
        "accuracy = accuracy_score(pipe.predict(X_test), y_test)\n",
        "\n",
        "# عرض دقة النموذج\n",
        "print(\"Accuracy:\", accuracy)\n"
      ],
      "metadata": {
        "colab": {
          "base_uri": "https://localhost:8080/"
        },
        "id": "FOmBPlx3Wfnw",
        "outputId": "4b189742-32a7-47a2-dabf-74f3906afb32"
      },
      "execution_count": 16,
      "outputs": [
        {
          "output_type": "stream",
          "name": "stdout",
          "text": [
            "Accuracy: 0.9736842105263158\n"
          ]
        }
      ]
    },
    {
      "cell_type": "markdown",
      "source": [
        "##  4 : Model evaluation"
      ],
      "metadata": {
        "id": "xq4R8BBzW74A"
      }
    },
    {
      "cell_type": "code",
      "source": [
        "from sklearn.datasets import make_regression\n",
        "from sklearn.linear_model import LinearRegression\n",
        "from sklearn.model_selection import cross_validate\n",
        "\n",
        "# إنشاء مجموعة بيانات وهمية للانحدار\n",
        "X, y = make_regression(n_samples=1000, random_state=0)\n",
        "\n",
        "# إنشاء نموذج الانحدار الخطي\n",
        "lr = LinearRegression()\n",
        "\n",
        "# تنفيذ التحقق المتقاطع (بخمس طيات افتراضيًا)\n",
        "result = cross_validate(lr, X, y)  # defaults to 5-fold CV\n",
        "\n",
        "# عرض درجات التقييم (R²) لكل طية\n",
        "print(\"Cross-Validation Scores:\", result['test_score'])\n"
      ],
      "metadata": {
        "colab": {
          "base_uri": "https://localhost:8080/"
        },
        "id": "yk0N_lI1W4h9",
        "outputId": "8112b750-1e01-4c7f-aa37-8e238b4cde52"
      },
      "execution_count": 17,
      "outputs": [
        {
          "output_type": "stream",
          "name": "stdout",
          "text": [
            "Cross-Validation Scores: [1. 1. 1. 1. 1.]\n"
          ]
        }
      ]
    },
    {
      "cell_type": "markdown",
      "source": [
        "## 5 : Automatic parameter searches"
      ],
      "metadata": {
        "id": "Be3GVXp2XVuo"
      }
    },
    {
      "cell_type": "code",
      "source": [
        "from sklearn.datasets import fetch_california_housing\n",
        "from sklearn.ensemble import RandomForestRegressor\n",
        "from sklearn.model_selection import RandomizedSearchCV\n",
        "from sklearn.model_selection import train_test_split\n",
        "from scipy.stats import randint\n",
        "\n",
        "# تحميل مجموعة بيانات الإسكان في كاليفورنيا\n",
        "X, y = fetch_california_housing(return_X_y=True)\n",
        "\n",
        "# تقسيم البيانات إلى مجموعة تدريب واختبار\n",
        "X_train, X_test, y_train, y_test = train_test_split(X, y, random_state=0)\n",
        "\n",
        "# تعريف المساحة التي سيتم البحث فيها\n",
        "param_distributions = {\n",
        "    'n_estimators': randint(1, 5),   # عدد الأشجار في الغابة العشوائية\n",
        "    'max_depth': randint(5, 10)      # أقصى عمق لكل شجرة\n",
        "}\n",
        "\n",
        "# إنشاء كائن RandomizedSearchCV والبحث عن أفضل معلمات\n",
        "search = RandomizedSearchCV(\n",
        "    estimator=RandomForestRegressor(random_state=0),\n",
        "    n_iter=5,                           # عدد التكرارات للبحث\n",
        "    param_distributions=param_distributions,\n",
        "    random_state=0\n",
        ")\n",
        "\n",
        "# تدريب النموذج باستخدام مجموعة التدريب\n",
        "search.fit(X_train, y_train)\n",
        "\n",
        "# عرض أفضل المعلمات التي تم العثور عليها\n",
        "print(\"Best Parameters:\", search.best_params_)\n",
        "\n",
        "# حساب دقة النموذج على مجموعة الاختبار\n",
        "score = search.score(X_test, y_test)\n",
        "print(\"Test Score:\", score)\n"
      ],
      "metadata": {
        "colab": {
          "base_uri": "https://localhost:8080/"
        },
        "id": "lCbUmuZzXPwk",
        "outputId": "274dfab7-4d4a-4072-fb58-6f83b795aea0"
      },
      "execution_count": 18,
      "outputs": [
        {
          "output_type": "stream",
          "name": "stdout",
          "text": [
            "Best Parameters: {'max_depth': 9, 'n_estimators': 4}\n",
            "Test Score: 0.735363411343253\n"
          ]
        }
      ]
    }
  ]
}