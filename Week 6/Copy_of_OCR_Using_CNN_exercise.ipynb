{
  "cells": [
    {
      "cell_type": "markdown",
      "id": "f029bf03",
      "metadata": {
        "id": "f029bf03"
      },
      "source": [
        "# OCR Application Using CNN on MNIST Dataset\n"
      ]
    },
    {
      "cell_type": "markdown",
      "id": "45192701",
      "metadata": {
        "id": "45192701"
      },
      "source": [
        "## Step 1: Import Libraries\n"
      ]
    },
    {
      "cell_type": "code",
      "execution_count": 1,
      "id": "d4d8100c",
      "metadata": {
        "id": "d4d8100c"
      },
      "outputs": [],
      "source": [
        "import keras\n",
        "from keras.datasets import mnist\n",
        "from keras.models import Sequential\n",
        "from keras.layers import Dense, Dropout, Flatten\n",
        "from keras.layers import Conv2D, MaxPooling2D\n",
        "import cv2\n",
        "import random\n",
        "import numpy as np\n",
        "import matplotlib.pyplot as plt"
      ]
    },
    {
      "cell_type": "markdown",
      "id": "fbfc2a04",
      "metadata": {
        "id": "fbfc2a04"
      },
      "source": [
        "## Step 2: Load and Preprocess the MNIST Dataset\n"
      ]
    },
    {
      "cell_type": "code",
      "execution_count": 2,
      "id": "a283f1dc",
      "metadata": {
        "id": "a283f1dc",
        "colab": {
          "base_uri": "https://localhost:8080/"
        },
        "outputId": "ea9c2110-2a6c-4ab9-ed29-723e41916b5e"
      },
      "outputs": [
        {
          "output_type": "stream",
          "name": "stdout",
          "text": [
            "Downloading data from https://storage.googleapis.com/tensorflow/tf-keras-datasets/mnist.npz\n",
            "\u001b[1m11490434/11490434\u001b[0m \u001b[32m━━━━━━━━━━━━━━━━━━━━\u001b[0m\u001b[37m\u001b[0m \u001b[1m2s\u001b[0m 0us/step\n"
          ]
        }
      ],
      "source": [
        "(x_train, y_train), (x_test, y_test) = mnist.load_data()\n",
        "\n",
        "# Reshaping and normalizing\n",
        "x_train = x_train.reshape(x_train.shape[0], 28, 28, 1)\n",
        "x_test = x_test.reshape(x_test.shape[0], 28, 28, 1)\n",
        "input_shape = (28, 28, 1)\n",
        "\n",
        "x_train = x_train.astype('float32')\n",
        "x_test = x_test.astype('float32')\n",
        "x_train /= 255\n",
        "x_test /= 255\n",
        "\n",
        "# One-hot encode the labels\n",
        "y_train = keras.utils.to_categorical(y_train, 10)\n",
        "y_test = keras.utils.to_categorical(y_test, 10)"
      ]
    },
    {
      "cell_type": "markdown",
      "id": "4136658c",
      "metadata": {
        "id": "4136658c"
      },
      "source": [
        "## Step 3: Build the CNN Model\n"
      ]
    },
    {
      "cell_type": "code",
      "execution_count": 3,
      "id": "76643ee9",
      "metadata": {
        "id": "76643ee9",
        "colab": {
          "base_uri": "https://localhost:8080/"
        },
        "outputId": "3daf36a7-eff2-4049-fbbe-4163ebee8d79"
      },
      "outputs": [
        {
          "output_type": "stream",
          "name": "stderr",
          "text": [
            "/usr/local/lib/python3.10/dist-packages/keras/src/layers/convolutional/base_conv.py:107: UserWarning: Do not pass an `input_shape`/`input_dim` argument to a layer. When using Sequential models, prefer using an `Input(shape)` object as the first layer in the model instead.\n",
            "  super().__init__(activity_regularizer=activity_regularizer, **kwargs)\n"
          ]
        }
      ],
      "source": [
        "model = Sequential()\n",
        "model.add(Conv2D(32, kernel_size=(3, 3), activation='relu', input_shape=input_shape))\n",
        "model.add(Conv2D(64, (3, 3), activation='relu'))\n",
        "model.add(MaxPooling2D(pool_size=(2, 2)))\n",
        "model.add(Dropout(0.25))\n",
        "model.add(Flatten())\n",
        "model.add(Dense(128, activation='relu'))\n",
        "model.add(Dropout(0.5))\n",
        "model.add(Dense(10, activation='softmax'))"
      ]
    },
    {
      "cell_type": "markdown",
      "id": "842ca22a",
      "metadata": {
        "id": "842ca22a"
      },
      "source": [
        "## Step 4: Compile and Train the Model\n"
      ]
    },
    {
      "cell_type": "code",
      "execution_count": 4,
      "id": "a9c21872",
      "metadata": {
        "id": "a9c21872",
        "colab": {
          "base_uri": "https://localhost:8080/"
        },
        "outputId": "6167815b-b0fd-427b-d91f-81acf9b05aae"
      },
      "outputs": [
        {
          "output_type": "stream",
          "name": "stdout",
          "text": [
            "Epoch 1/12\n",
            "\u001b[1m469/469\u001b[0m \u001b[32m━━━━━━━━━━━━━━━━━━━━\u001b[0m\u001b[37m\u001b[0m \u001b[1m13s\u001b[0m 15ms/step - accuracy: 0.1220 - loss: 2.2920 - val_accuracy: 0.4307 - val_loss: 2.2223\n",
            "Epoch 2/12\n",
            "\u001b[1m469/469\u001b[0m \u001b[32m━━━━━━━━━━━━━━━━━━━━\u001b[0m\u001b[37m\u001b[0m \u001b[1m12s\u001b[0m 7ms/step - accuracy: 0.2567 - loss: 2.2142 - val_accuracy: 0.6010 - val_loss: 2.1191\n",
            "Epoch 3/12\n",
            "\u001b[1m469/469\u001b[0m \u001b[32m━━━━━━━━━━━━━━━━━━━━\u001b[0m\u001b[37m\u001b[0m \u001b[1m5s\u001b[0m 7ms/step - accuracy: 0.3821 - loss: 2.1143 - val_accuracy: 0.6851 - val_loss: 1.9815\n",
            "Epoch 4/12\n",
            "\u001b[1m469/469\u001b[0m \u001b[32m━━━━━━━━━━━━━━━━━━━━\u001b[0m\u001b[37m\u001b[0m \u001b[1m3s\u001b[0m 7ms/step - accuracy: 0.4724 - loss: 1.9846 - val_accuracy: 0.7251 - val_loss: 1.8050\n",
            "Epoch 5/12\n",
            "\u001b[1m469/469\u001b[0m \u001b[32m━━━━━━━━━━━━━━━━━━━━\u001b[0m\u001b[37m\u001b[0m \u001b[1m5s\u001b[0m 7ms/step - accuracy: 0.5393 - loss: 1.8220 - val_accuracy: 0.7520 - val_loss: 1.6020\n",
            "Epoch 6/12\n",
            "\u001b[1m469/469\u001b[0m \u001b[32m━━━━━━━━━━━━━━━━━━━━\u001b[0m\u001b[37m\u001b[0m \u001b[1m5s\u001b[0m 7ms/step - accuracy: 0.5838 - loss: 1.6432 - val_accuracy: 0.7731 - val_loss: 1.3913\n",
            "Epoch 7/12\n",
            "\u001b[1m469/469\u001b[0m \u001b[32m━━━━━━━━━━━━━━━━━━━━\u001b[0m\u001b[37m\u001b[0m \u001b[1m4s\u001b[0m 7ms/step - accuracy: 0.6169 - loss: 1.4664 - val_accuracy: 0.7879 - val_loss: 1.1965\n",
            "Epoch 8/12\n",
            "\u001b[1m469/469\u001b[0m \u001b[32m━━━━━━━━━━━━━━━━━━━━\u001b[0m\u001b[37m\u001b[0m \u001b[1m3s\u001b[0m 7ms/step - accuracy: 0.6448 - loss: 1.3082 - val_accuracy: 0.8026 - val_loss: 1.0344\n",
            "Epoch 9/12\n",
            "\u001b[1m469/469\u001b[0m \u001b[32m━━━━━━━━━━━━━━━━━━━━\u001b[0m\u001b[37m\u001b[0m \u001b[1m5s\u001b[0m 7ms/step - accuracy: 0.6703 - loss: 1.1742 - val_accuracy: 0.8108 - val_loss: 0.9070\n",
            "Epoch 10/12\n",
            "\u001b[1m469/469\u001b[0m \u001b[32m━━━━━━━━━━━━━━━━━━━━\u001b[0m\u001b[37m\u001b[0m \u001b[1m5s\u001b[0m 7ms/step - accuracy: 0.6879 - loss: 1.0768 - val_accuracy: 0.8202 - val_loss: 0.8090\n",
            "Epoch 11/12\n",
            "\u001b[1m469/469\u001b[0m \u001b[32m━━━━━━━━━━━━━━━━━━━━\u001b[0m\u001b[37m\u001b[0m \u001b[1m3s\u001b[0m 7ms/step - accuracy: 0.7069 - loss: 0.9982 - val_accuracy: 0.8298 - val_loss: 0.7344\n",
            "Epoch 12/12\n",
            "\u001b[1m469/469\u001b[0m \u001b[32m━━━━━━━━━━━━━━━━━━━━\u001b[0m\u001b[37m\u001b[0m \u001b[1m6s\u001b[0m 7ms/step - accuracy: 0.7203 - loss: 0.9304 - val_accuracy: 0.8380 - val_loss: 0.6755\n"
          ]
        },
        {
          "output_type": "execute_result",
          "data": {
            "text/plain": [
              "<keras.src.callbacks.history.History at 0x79b8b71cf3d0>"
            ]
          },
          "metadata": {},
          "execution_count": 4
        }
      ],
      "source": [
        "model.compile(loss=keras.losses.categorical_crossentropy,\n",
        "              optimizer=keras.optimizers.Adadelta(),\n",
        "              metrics=['accuracy'])\n",
        "\n",
        "model.fit(x_train, y_train,\n",
        "          batch_size=128,\n",
        "          epochs=12,\n",
        "          verbose=1,\n",
        "          validation_data=(x_test, y_test))"
      ]
    },
    {
      "cell_type": "markdown",
      "id": "294ccec8",
      "metadata": {
        "id": "294ccec8"
      },
      "source": [
        "## Step 5: Visualizing Random Predictions from the Test Set\n"
      ]
    },
    {
      "cell_type": "code",
      "execution_count": 5,
      "id": "a4a9443c",
      "metadata": {
        "id": "a4a9443c",
        "colab": {
          "base_uri": "https://localhost:8080/",
          "height": 445
        },
        "outputId": "9d8c4918-a256-49c7-ef14-3315f2640343"
      },
      "outputs": [
        {
          "output_type": "stream",
          "name": "stdout",
          "text": [
            "\u001b[1m1/1\u001b[0m \u001b[32m━━━━━━━━━━━━━━━━━━━━\u001b[0m\u001b[37m\u001b[0m \u001b[1m0s\u001b[0m 406ms/step\n"
          ]
        },
        {
          "output_type": "display_data",
          "data": {
            "text/plain": [
              "<Figure size 640x480 with 1 Axes>"
            ],
            "image/png": "[encoded data removed]"
          },
          "metadata": {}
        }
      ],
      "source": [
        "# Select a random image\n",
        "random_idx = random.randint(0, x_test.shape[0] - 1)\n",
        "random_image = x_test[random_idx]\n",
        "\n",
        "# Get the model's prediction\n",
        "predicted_label = model.predict(random_image.reshape(1, 28, 28, 1)).argmax()\n",
        "\n",
        "# Plot the image\n",
        "plt.imshow(random_image.squeeze(), cmap='gray')\n",
        "plt.title(f'Model Prediction: {predicted_label}')\n",
        "plt.axis('off')\n",
        "plt.show()"
      ]
    }
  ],
  "metadata": {
    "colab": {
      "provenance": [],
      "gpuType": "T4"
    },
    "accelerator": "GPU",
    "language_info": {
      "name": "python"
    },
    "kernelspec": {
      "name": "python3",
      "display_name": "Python 3"
    }
  },
  "nbformat": 4,
  "nbformat_minor": 5
}