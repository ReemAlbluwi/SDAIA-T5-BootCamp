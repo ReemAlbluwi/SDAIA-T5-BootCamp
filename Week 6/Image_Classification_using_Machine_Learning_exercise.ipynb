{
  "cells": [
    {
      "cell_type": "markdown",
      "metadata": {
        "id": "eeozLGFv922L"
      },
      "source": [
        "# Image Classification using Logistic Regression and Softmax Regression\n",
        "### Fashion-MNIST Dataset"
      ]
    },
    {
      "cell_type": "markdown",
      "metadata": {
        "id": "b-7TRSa8922M"
      },
      "source": [
        "## 1. Install Required Libraries\n",
        "Before starting, you need to install the necessary Python libraries:\n",
        "- **TensorFlow**: Used for building and training the Softmax Regression model.\n",
        "- **Scikit-Learn**: Provides the Logistic Regression implementation.\n",
        "- **Matplotlib**: Used for plotting images and confusion matrices.\n",
        "```bash\n",
        "pip install tensorflow scikit-learn matplotlib\n",
        "```\n"
      ]
    },
    {
      "cell_type": "markdown",
      "metadata": {
        "id": "pnF5bCMY922M"
      },
      "source": [
        "## 2. Import Necessary Libraries\n",
        "In this step, we import the necessary libraries to handle data processing, model training, and evaluation.\n"
      ]
    },
    {
      "cell_type": "code",
      "execution_count": 1,
      "metadata": {
        "id": "B-Sa3Ku7922M"
      },
      "outputs": [],
      "source": [
        "import numpy as np\n",
        "import matplotlib.pyplot as plt\n",
        "from sklearn.linear_model import LogisticRegression\n",
        "from sklearn.metrics import accuracy_score, confusion_matrix , f1_score\n",
        "from tensorflow.keras import datasets, layers, models\n",
        "from tensorflow.keras.utils import to_categorical\n"
      ]
    },
    {
      "cell_type": "markdown",
      "metadata": {
        "id": "cfLJPfVC922N"
      },
      "source": [
        "## 3. Load and Preprocess the Fashion-MNIST Dataset\n",
        "Fashion-MNIST is a dataset of Zalando's article images consisting of 60,000 training images and 10,000 test images, categorized into 10 classes.\n"
      ]
    },
    {
      "cell_type": "code",
      "execution_count": 2,
      "metadata": {
        "colab": {
          "base_uri": "https://localhost:8080/"
        },
        "id": "JP4zaGye922N",
        "outputId": "04e3f6fd-32a7-4ce6-f10d-5271048b92ca"
      },
      "outputs": [
        {
          "output_type": "stream",
          "name": "stdout",
          "text": [
            "X train flatten (60000, 784)\n",
            "X test flatten (10000, 784)\n"
          ]
        }
      ],
      "source": [
        "# Load the Fashion-MNIST dataset\n",
        "(train_images, train_labels), (test_images, test_labels) = datasets.fashion_mnist.load_data()\n",
        "\n",
        "# Normalize the pixel values to be between 0 and 1\n",
        "train_images = train_images / 255.0\n",
        "test_images = test_images / 255.0\n",
        "\n",
        "# Flatten images for Logistic Regression\n",
        "train_images_flat = train_images.reshape(60000, -1)\n",
        "test_images_flat = test_images.reshape(10000, -1)\n",
        "\n",
        "train_labels = to_categorical(train_labels)\n",
        "test_labels = to_categorical(test_labels)\n",
        "\n",
        "print(\"X train flatten\",train_images_flat.shape)\n",
        "print(\"X test flatten\",test_images_flat.shape)"
      ]
    },
    {
      "cell_type": "markdown",
      "metadata": {
        "id": "GHQ5xeeR922N"
      },
      "source": [
        "## 4. Logistic Regression for Image Classification\n",
        "Logistic Regression is used for multi-class classification. We fit the model using the flattened images."
      ]
    },
    {
      "cell_type": "code",
      "execution_count": 3,
      "metadata": {
        "colab": {
          "base_uri": "https://localhost:8080/"
        },
        "id": "LVGwXX8U922N",
        "outputId": "91cb21c7-f702-427d-837b-7af274ede790"
      },
      "outputs": [
        {
          "output_type": "stream",
          "name": "stdout",
          "text": [
            "Accuracy: 84.39%\n",
            "F1 Score: 84.31%\n",
            "Confusion Matrix:\n",
            "[[807   4  17  48   5   2 108   0   9   0]\n",
            " [  2 961   1  25   5   0   4   0   2   0]\n",
            " [ 19   6 735  12 131   1  86   0  10   0]\n",
            " [ 30  12  12 869  29   0  44   0   4   0]\n",
            " [  0   2 108  38 756   1  87   0   8   0]\n",
            " [  0   0   0   1   0 925   0  51   3  20]\n",
            " [129   2 129  40 106   1 568   0  25   0]\n",
            " [  0   0   0   0   0  33   0 938   0  29]\n",
            " [  7   1   6  10   3   5  21   5 942   0]\n",
            " [  0   0   0   0   0  13   0  47   2 938]]\n"
          ]
        },
        {
          "output_type": "stream",
          "name": "stderr",
          "text": [
            "/usr/local/lib/python3.10/dist-packages/sklearn/linear_model/_logistic.py:460: ConvergenceWarning: lbfgs failed to converge (status=1):\n",
            "STOP: TOTAL NO. of ITERATIONS REACHED LIMIT.\n",
            "\n",
            "Increase the number of iterations (max_iter) or scale the data as shown in:\n",
            "    https://scikit-learn.org/stable/modules/preprocessing.html\n",
            "Please also refer to the documentation for alternative solver options:\n",
            "    https://scikit-learn.org/stable/modules/linear_model.html#logistic-regression\n",
            "  n_iter_i = _check_optimize_result(\n"
          ]
        }
      ],
      "source": [
        "model = LogisticRegression(multi_class='multinomial', solver='lbfgs')\n",
        "model.fit(train_images_flat, np.argmax(train_labels, axis=1))\n",
        "\n",
        "y_pred = model.predict(test_images_flat)\n",
        "\n",
        "accuracy = accuracy_score(np.argmax(test_labels, axis=1), y_pred)\n",
        "print(f'Accuracy: {accuracy * 100:.2f}%')\n",
        "f1 = f1_score(np.argmax(test_labels, axis=1), y_pred, average='weighted')\n",
        "print(f'F1 Score: {f1 * 100:.2f}%')\n",
        "\n",
        "# Confusion Matrix\n",
        "conf_matrix = confusion_matrix(np.argmax(test_labels, axis=1), y_pred)\n",
        "print('Confusion Matrix:')\n",
        "print(conf_matrix)"
      ]
    },
    {
      "cell_type": "markdown",
      "metadata": {
        "id": "glBceUlF922O"
      },
      "source": [
        "## 5. Softmax Regression (Using TensorFlow/Keras)\n",
        "Softmax Regression is implemented using a simple neural network in TensorFlow/Keras."
      ]
    },
    {
      "cell_type": "code",
      "execution_count": 4,
      "metadata": {
        "colab": {
          "base_uri": "https://localhost:8080/"
        },
        "id": "zD35mDDw922O",
        "outputId": "c79c9dc5-419b-41c0-ba27-78efdc4ff15f"
      },
      "outputs": [
        {
          "output_type": "stream",
          "name": "stderr",
          "text": [
            "/usr/local/lib/python3.10/dist-packages/keras/src/layers/reshaping/flatten.py:37: UserWarning: Do not pass an `input_shape`/`input_dim` argument to a layer. When using Sequential models, prefer using an `Input(shape)` object as the first layer in the model instead.\n",
            "  super().__init__(**kwargs)\n"
          ]
        },
        {
          "output_type": "stream",
          "name": "stdout",
          "text": [
            "Epoch 1/30\n",
            "\u001b[1m1500/1500\u001b[0m \u001b[32m━━━━━━━━━━━━━━━━━━━━\u001b[0m\u001b[37m\u001b[0m \u001b[1m4s\u001b[0m 2ms/step - accuracy: 0.7178 - loss: 0.8404 - val_accuracy: 0.8281 - val_loss: 0.5015\n",
            "Epoch 2/30\n",
            "\u001b[1m1500/1500\u001b[0m \u001b[32m━━━━━━━━━━━━━━━━━━━━\u001b[0m\u001b[37m\u001b[0m \u001b[1m6s\u001b[0m 3ms/step - accuracy: 0.8352 - loss: 0.4826 - val_accuracy: 0.8457 - val_loss: 0.4545\n",
            "Epoch 3/30\n",
            "\u001b[1m1500/1500\u001b[0m \u001b[32m━━━━━━━━━━━━━━━━━━━━\u001b[0m\u001b[37m\u001b[0m \u001b[1m4s\u001b[0m 2ms/step - accuracy: 0.8509 - loss: 0.4370 - val_accuracy: 0.8397 - val_loss: 0.4607\n",
            "Epoch 4/30\n",
            "\u001b[1m1500/1500\u001b[0m \u001b[32m━━━━━━━━━━━━━━━━━━━━\u001b[0m\u001b[37m\u001b[0m \u001b[1m3s\u001b[0m 2ms/step - accuracy: 0.8505 - loss: 0.4305 - val_accuracy: 0.8537 - val_loss: 0.4274\n",
            "Epoch 5/30\n",
            "\u001b[1m1500/1500\u001b[0m \u001b[32m━━━━━━━━━━━━━━━━━━━━\u001b[0m\u001b[37m\u001b[0m \u001b[1m6s\u001b[0m 2ms/step - accuracy: 0.8526 - loss: 0.4238 - val_accuracy: 0.8478 - val_loss: 0.4332\n",
            "Epoch 6/30\n",
            "\u001b[1m1500/1500\u001b[0m \u001b[32m━━━━━━━━━━━━━━━━━━━━\u001b[0m\u001b[37m\u001b[0m \u001b[1m4s\u001b[0m 2ms/step - accuracy: 0.8586 - loss: 0.4081 - val_accuracy: 0.8541 - val_loss: 0.4176\n",
            "Epoch 7/30\n",
            "\u001b[1m1500/1500\u001b[0m \u001b[32m━━━━━━━━━━━━━━━━━━━━\u001b[0m\u001b[37m\u001b[0m \u001b[1m5s\u001b[0m 2ms/step - accuracy: 0.8609 - loss: 0.4025 - val_accuracy: 0.8433 - val_loss: 0.4428\n",
            "Epoch 8/30\n",
            "\u001b[1m1500/1500\u001b[0m \u001b[32m━━━━━━━━━━━━━━━━━━━━\u001b[0m\u001b[37m\u001b[0m \u001b[1m4s\u001b[0m 3ms/step - accuracy: 0.8601 - loss: 0.4026 - val_accuracy: 0.8549 - val_loss: 0.4221\n",
            "Epoch 9/30\n",
            "\u001b[1m1500/1500\u001b[0m \u001b[32m━━━━━━━━━━━━━━━━━━━━\u001b[0m\u001b[37m\u001b[0m \u001b[1m3s\u001b[0m 2ms/step - accuracy: 0.8612 - loss: 0.3996 - val_accuracy: 0.8568 - val_loss: 0.4192\n",
            "Epoch 10/30\n",
            "\u001b[1m1500/1500\u001b[0m \u001b[32m━━━━━━━━━━━━━━━━━━━━\u001b[0m\u001b[37m\u001b[0m \u001b[1m3s\u001b[0m 2ms/step - accuracy: 0.8618 - loss: 0.3991 - val_accuracy: 0.8494 - val_loss: 0.4358\n",
            "Epoch 11/30\n",
            "\u001b[1m1500/1500\u001b[0m \u001b[32m━━━━━━━━━━━━━━━━━━━━\u001b[0m\u001b[37m\u001b[0m \u001b[1m7s\u001b[0m 3ms/step - accuracy: 0.8649 - loss: 0.3914 - val_accuracy: 0.8576 - val_loss: 0.4144\n",
            "Epoch 12/30\n",
            "\u001b[1m1500/1500\u001b[0m \u001b[32m━━━━━━━━━━━━━━━━━━━━\u001b[0m\u001b[37m\u001b[0m \u001b[1m3s\u001b[0m 2ms/step - accuracy: 0.8636 - loss: 0.3854 - val_accuracy: 0.8511 - val_loss: 0.4323\n",
            "Epoch 13/30\n",
            "\u001b[1m1500/1500\u001b[0m \u001b[32m━━━━━━━━━━━━━━━━━━━━\u001b[0m\u001b[37m\u001b[0m \u001b[1m5s\u001b[0m 2ms/step - accuracy: 0.8643 - loss: 0.3895 - val_accuracy: 0.8564 - val_loss: 0.4119\n",
            "Epoch 14/30\n",
            "\u001b[1m1500/1500\u001b[0m \u001b[32m━━━━━━━━━━━━━━━━━━━━\u001b[0m\u001b[37m\u001b[0m \u001b[1m6s\u001b[0m 3ms/step - accuracy: 0.8645 - loss: 0.3882 - val_accuracy: 0.8542 - val_loss: 0.4223\n",
            "Epoch 15/30\n",
            "\u001b[1m1500/1500\u001b[0m \u001b[32m━━━━━━━━━━━━━━━━━━━━\u001b[0m\u001b[37m\u001b[0m \u001b[1m4s\u001b[0m 2ms/step - accuracy: 0.8660 - loss: 0.3815 - val_accuracy: 0.8520 - val_loss: 0.4217\n",
            "Epoch 16/30\n",
            "\u001b[1m1500/1500\u001b[0m \u001b[32m━━━━━━━━━━━━━━━━━━━━\u001b[0m\u001b[37m\u001b[0m \u001b[1m5s\u001b[0m 2ms/step - accuracy: 0.8686 - loss: 0.3770 - val_accuracy: 0.8539 - val_loss: 0.4272\n",
            "Epoch 17/30\n",
            "\u001b[1m1500/1500\u001b[0m \u001b[32m━━━━━━━━━━━━━━━━━━━━\u001b[0m\u001b[37m\u001b[0m \u001b[1m5s\u001b[0m 2ms/step - accuracy: 0.8682 - loss: 0.3792 - val_accuracy: 0.8572 - val_loss: 0.4117\n",
            "Epoch 18/30\n",
            "\u001b[1m1500/1500\u001b[0m \u001b[32m━━━━━━━━━━━━━━━━━━━━\u001b[0m\u001b[37m\u001b[0m \u001b[1m3s\u001b[0m 2ms/step - accuracy: 0.8713 - loss: 0.3761 - val_accuracy: 0.8547 - val_loss: 0.4159\n",
            "Epoch 19/30\n",
            "\u001b[1m1500/1500\u001b[0m \u001b[32m━━━━━━━━━━━━━━━━━━━━\u001b[0m\u001b[37m\u001b[0m \u001b[1m3s\u001b[0m 2ms/step - accuracy: 0.8678 - loss: 0.3810 - val_accuracy: 0.8546 - val_loss: 0.4213\n",
            "Epoch 20/30\n",
            "\u001b[1m1500/1500\u001b[0m \u001b[32m━━━━━━━━━━━━━━━━━━━━\u001b[0m\u001b[37m\u001b[0m \u001b[1m4s\u001b[0m 3ms/step - accuracy: 0.8675 - loss: 0.3745 - val_accuracy: 0.8502 - val_loss: 0.4276\n",
            "Epoch 21/30\n",
            "\u001b[1m1500/1500\u001b[0m \u001b[32m━━━━━━━━━━━━━━━━━━━━\u001b[0m\u001b[37m\u001b[0m \u001b[1m4s\u001b[0m 2ms/step - accuracy: 0.8708 - loss: 0.3688 - val_accuracy: 0.8539 - val_loss: 0.4217\n",
            "Epoch 22/30\n",
            "\u001b[1m1500/1500\u001b[0m \u001b[32m━━━━━━━━━━━━━━━━━━━━\u001b[0m\u001b[37m\u001b[0m \u001b[1m3s\u001b[0m 2ms/step - accuracy: 0.8692 - loss: 0.3707 - val_accuracy: 0.8578 - val_loss: 0.4172\n",
            "Epoch 23/30\n",
            "\u001b[1m1500/1500\u001b[0m \u001b[32m━━━━━━━━━━━━━━━━━━━━\u001b[0m\u001b[37m\u001b[0m \u001b[1m6s\u001b[0m 3ms/step - accuracy: 0.8680 - loss: 0.3688 - val_accuracy: 0.8465 - val_loss: 0.4427\n",
            "Epoch 24/30\n",
            "\u001b[1m1500/1500\u001b[0m \u001b[32m━━━━━━━━━━━━━━━━━━━━\u001b[0m\u001b[37m\u001b[0m \u001b[1m3s\u001b[0m 2ms/step - accuracy: 0.8710 - loss: 0.3661 - val_accuracy: 0.8585 - val_loss: 0.4173\n",
            "Epoch 25/30\n",
            "\u001b[1m1500/1500\u001b[0m \u001b[32m━━━━━━━━━━━━━━━━━━━━\u001b[0m\u001b[37m\u001b[0m \u001b[1m5s\u001b[0m 2ms/step - accuracy: 0.8701 - loss: 0.3722 - val_accuracy: 0.8537 - val_loss: 0.4210\n",
            "Epoch 26/30\n",
            "\u001b[1m1500/1500\u001b[0m \u001b[32m━━━━━━━━━━━━━━━━━━━━\u001b[0m\u001b[37m\u001b[0m \u001b[1m7s\u001b[0m 3ms/step - accuracy: 0.8696 - loss: 0.3703 - val_accuracy: 0.8546 - val_loss: 0.4211\n",
            "Epoch 27/30\n",
            "\u001b[1m1500/1500\u001b[0m \u001b[32m━━━━━━━━━━━━━━━━━━━━\u001b[0m\u001b[37m\u001b[0m \u001b[1m4s\u001b[0m 2ms/step - accuracy: 0.8711 - loss: 0.3663 - val_accuracy: 0.8537 - val_loss: 0.4259\n",
            "Epoch 28/30\n",
            "\u001b[1m1500/1500\u001b[0m \u001b[32m━━━━━━━━━━━━━━━━━━━━\u001b[0m\u001b[37m\u001b[0m \u001b[1m5s\u001b[0m 2ms/step - accuracy: 0.8692 - loss: 0.3665 - val_accuracy: 0.8573 - val_loss: 0.4161\n",
            "Epoch 29/30\n",
            "\u001b[1m1500/1500\u001b[0m \u001b[32m━━━━━━━━━━━━━━━━━━━━\u001b[0m\u001b[37m\u001b[0m \u001b[1m6s\u001b[0m 2ms/step - accuracy: 0.8730 - loss: 0.3605 - val_accuracy: 0.8546 - val_loss: 0.4231\n",
            "Epoch 30/30\n",
            "\u001b[1m1500/1500\u001b[0m \u001b[32m━━━━━━━━━━━━━━━━━━━━\u001b[0m\u001b[37m\u001b[0m \u001b[1m3s\u001b[0m 2ms/step - accuracy: 0.8729 - loss: 0.3616 - val_accuracy: 0.8497 - val_loss: 0.4452\n"
          ]
        },
        {
          "output_type": "execute_result",
          "data": {
            "text/plain": [
              "<keras.src.callbacks.history.History at 0x7e4e1931fc40>"
            ]
          },
          "metadata": {},
          "execution_count": 4
        }
      ],
      "source": [
        "model2 = models.Sequential()\n",
        "model2.add(layers.Flatten(input_shape=(28, 28)))\n",
        "model2.add(layers.Dense(10, activation='softmax'))\n",
        "\n",
        "# Compile the model\n",
        "model2.compile(optimizer='adam',\n",
        "              loss='categorical_crossentropy',\n",
        "              metrics=['accuracy'])\n",
        "\n",
        "# Train the model\n",
        "model2.fit(train_images, train_labels, epochs=30, batch_size=32, validation_split=0.2)"
      ]
    },
    {
      "cell_type": "code",
      "execution_count": 5,
      "metadata": {
        "id": "ZFlONc9y1xIS",
        "colab": {
          "base_uri": "https://localhost:8080/"
        },
        "outputId": "e3995874-1e2b-4ae1-e641-7da1e59c3631"
      },
      "outputs": [
        {
          "output_type": "stream",
          "name": "stdout",
          "text": [
            "\u001b[1m313/313\u001b[0m \u001b[32m━━━━━━━━━━━━━━━━━━━━\u001b[0m\u001b[37m\u001b[0m \u001b[1m1s\u001b[0m 1ms/step - accuracy: 0.8419 - loss: 0.4616\n",
            "Test accuracy: 83.84%\n"
          ]
        }
      ],
      "source": [
        "# Evaluate the model\n",
        "test_loss, test_acc = model2.evaluate(test_images, test_labels)\n",
        "print(f'Test accuracy: {test_acc * 100:.2f}%')"
      ]
    },
    {
      "cell_type": "markdown",
      "metadata": {
        "id": "JVfYMhgQ922O"
      },
      "source": [
        "## 6. Visualize Model Predictions\n",
        "We visualize the predictions made by the Softmax Regression model on the test dataset."
      ]
    },
    {
      "cell_type": "code",
      "execution_count": 7,
      "metadata": {
        "id": "5dVrUaxb922O",
        "colab": {
          "base_uri": "https://localhost:8080/",
          "height": 227
        },
        "outputId": "a237c966-2759-4e8f-d049-81cc48704eb4"
      },
      "outputs": [
        {
          "output_type": "stream",
          "name": "stdout",
          "text": [
            "\u001b[1m313/313\u001b[0m \u001b[32m━━━━━━━━━━━━━━━━━━━━\u001b[0m\u001b[37m\u001b[0m \u001b[1m1s\u001b[0m 2ms/step\n"
          ]
        },
        {
          "output_type": "display_data",
          "data": {
            "text/plain": [
              "<Figure size 1500x500 with 5 Axes>"
            ],
            "image/png": "[encoded data removed]"
          },
          "metadata": {}
        }
      ],
      "source": [
        "# Visualize Model Predictions\n",
        "predictions = model2.predict(test_images)\n",
        "num_images_to_visualize = 5\n",
        "plt.figure(figsize=(15, 5))\n",
        "for i in range(num_images_to_visualize):\n",
        "  plt.subplot(1, num_images_to_visualize, i + 1)\n",
        "  plt.imshow(test_images[i], cmap='gray')\n",
        "  plt.title(f'Predicted: {np.argmax(predictions[i])}')\n",
        "  plt.axis('off')\n",
        "plt.show()"
      ]
    },
    {
      "cell_type": "markdown",
      "metadata": {
        "id": "V6xJKktw922O"
      },
      "source": [
        "### Summary\n",
        "- **Logistic Regression**: You flattened the images and used `LogisticRegression` from Scikit-Learn to classify the Fashion-MNIST dataset.\n",
        "- **Softmax Regression**: You used TensorFlow/Keras to build a simple neural network with a softmax activation function to classify the same dataset."
      ]
    }
  ],
  "metadata": {
    "colab": {
      "provenance": []
    },
    "kernelspec": {
      "display_name": "Python 3",
      "language": "python",
      "name": "python3"
    },
    "language_info": {
      "codemirror_mode": {
        "name": "ipython",
        "version": 3
      },
      "file_extension": ".py",
      "mimetype": "text/x-python",
      "name": "python",
      "nbconvert_exporter": "python",
      "pygments_lexer": "ipython3",
      "version": "3.8.5"
    }
  },
  "nbformat": 4,
  "nbformat_minor": 0
}