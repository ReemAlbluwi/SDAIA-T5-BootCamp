{
  "nbformat": 4,
  "nbformat_minor": 0,
  "metadata": {
    "colab": {
      "provenance": []
    },
    "kernelspec": {
      "name": "python3",
      "display_name": "Python 3"
    },
    "language_info": {
      "name": "python"
    }
  },
  "cells": [
    {
      "cell_type": "markdown",
      "source": [
        "# **Forward Propagation**"
      ],
      "metadata": {
        "id": "d7Zr2TUm7ma1"
      }
    },
    {
      "cell_type": "code",
      "source": [
        "from google.colab import drive\n",
        "drive.mount('/content/drive')\n"
      ],
      "metadata": {
        "colab": {
          "base_uri": "https://localhost:8080/"
        },
        "id": "kvX8-be3WJq-",
        "outputId": "d680211d-60db-4009-8117-60d26dfc541c"
      },
      "execution_count": 1,
      "outputs": [
        {
          "output_type": "stream",
          "name": "stdout",
          "text": [
            "Mounted at /content/drive\n"
          ]
        }
      ]
    },
    {
      "cell_type": "markdown",
      "source": [
        "#Step 1 : import libraries"
      ],
      "metadata": {
        "id": "2ekenUWc7qGF"
      }
    },
    {
      "cell_type": "code",
      "execution_count": 2,
      "metadata": {
        "id": "cu0RHYxn7dHX"
      },
      "outputs": [],
      "source": [
        "import numpy as np\n",
        "import pandas as pd\n"
      ]
    },
    {
      "cell_type": "markdown",
      "source": [
        "# Step 2 : Creating Dataset:\n",
        "###It creates a DataFrame df with columns ' num of cars', 'model of care', and ‘driver gender while 0 Woman and 1 MAN’."
      ],
      "metadata": {
        "id": "oS9BUiVS78wj"
      }
    },
    {
      "cell_type": "code",
      "source": [
        "# Creating a dataset\n",
        "# Creating a dataset\n",
        "data = {\n",
        "    'num of cars': [1, 2, 3, 4],\n",
        "    'model of car': [2010, 2011, 2012, 2013],\n",
        "    'driver gender': [0, 1, 0, 1]  # 0 for Woman, 1 for Man\n",
        "}\n",
        "df = pd.DataFrame(data)\n",
        "print(df)\n",
        "\n"
      ],
      "metadata": {
        "id": "qaH3xp1w78cC",
        "colab": {
          "base_uri": "https://localhost:8080/"
        },
        "outputId": "566aee88-a522-4ae8-d9c4-f2becd89e798"
      },
      "execution_count": 3,
      "outputs": [
        {
          "output_type": "stream",
          "name": "stdout",
          "text": [
            "   num of cars  model of car  driver gender\n",
            "0            1          2010              0\n",
            "1            2          2011              1\n",
            "2            3          2012              0\n",
            "3            4          2013              1\n"
          ]
        }
      ]
    },
    {
      "cell_type": "markdown",
      "source": [
        "#Step 3 :Initialize Parameters Function (initialize_parameters):\n",
        "###This function initializes the weights W and biases b for each layer of the neural network. It returns a dictionary containing the initialized parameters."
      ],
      "metadata": {
        "id": "mmjNGOXi8Jf6"
      }
    },
    {
      "cell_type": "code",
      "source": [
        "# Initializing parameters\n",
        "def initialize_parameters():\n",
        "    np.random.seed(1)\n",
        "    parameters = {\n",
        "        'W1': np.random.randn(3, 3) * 0.01,\n",
        "        'b1': np.zeros((3, 1)),\n",
        "        'W2': np.random.randn(1, 3) * 0.01,\n",
        "        'b2': np.zeros((1, 1))\n",
        "    }\n",
        "    return parameters\n",
        "\n",
        "parameters = initialize_parameters()\n",
        "print(parameters)\n",
        "\n",
        "\n"
      ],
      "metadata": {
        "id": "t6-0Di278GZj",
        "colab": {
          "base_uri": "https://localhost:8080/"
        },
        "outputId": "00f5dbe7-a244-48ee-85cc-9cf00099a1f5"
      },
      "execution_count": 4,
      "outputs": [
        {
          "output_type": "stream",
          "name": "stdout",
          "text": [
            "{'W1': array([[ 0.01624345, -0.00611756, -0.00528172],\n",
            "       [-0.01072969,  0.00865408, -0.02301539],\n",
            "       [ 0.01744812, -0.00761207,  0.00319039]]), 'b1': array([[0.],\n",
            "       [0.],\n",
            "       [0.]]), 'W2': array([[-0.0024937 ,  0.01462108, -0.02060141]]), 'b2': array([[0.]])}\n"
          ]
        }
      ]
    },
    {
      "cell_type": "markdown",
      "source": [
        "#Step 4 : Forward Propagation Functions (linear_forward, L_layer_forward):\n",
        "### These functions perform the forward pass through the neural network. linear_forward computes the linear transformation 𝑍=𝑊𝑇⋅𝐴prev+𝑏, while **L_layer_forward** iterates through the layers, applying the linear transformation and activation function to compute the output of the network."
      ],
      "metadata": {
        "id": "YW7asuG_8Q9x"
      }
    },
    {
      "cell_type": "code",
      "source": [
        "# Forward propagation\n",
        "def linear_forward(A, W, b):\n",
        "    Z = np.dot(W, A) + b\n",
        "    cache = (A, W, b)\n",
        "    return Z, cache\n",
        "\n",
        "def L_layer_forward(X, parameters):\n",
        "    caches = []\n",
        "    A = X\n",
        "    L = len(parameters) // 2  # number of layers in the neural network\n",
        "\n",
        "    for l in range(1, L):\n",
        "        A_prev = A\n",
        "        W = parameters['W' + str(l)]\n",
        "        b = parameters['b' + str(l)]\n",
        "        Z, linear_cache = linear_forward(A_prev, W, b)\n",
        "        A = np.maximum(0, Z)  # ReLU activation\n",
        "        caches.append(linear_cache)\n",
        "\n",
        "    WL = parameters['W' + str(L)]\n",
        "    bL = parameters['b' + str(L)]\n",
        "    ZL, linear_cache = linear_forward(A, WL, bL)\n",
        "    AL = 1 / (1 + np.exp(-ZL))  # Sigmoid activation\n",
        "    caches.append(linear_cache)\n",
        "\n",
        "    return AL, caches\n",
        "\n",
        "X_example = np.array([[1], [2010], [0]])\n",
        "AL, caches = L_layer_forward(X_example, parameters)\n",
        "print(\"Final output:\\n\", AL)\n",
        "\n"
      ],
      "metadata": {
        "id": "4q5yykoz8Qh6",
        "colab": {
          "base_uri": "https://localhost:8080/"
        },
        "outputId": "49158865-71f7-4cdb-c1f7-017be27bef10"
      },
      "execution_count": 5,
      "outputs": [
        {
          "output_type": "stream",
          "name": "stdout",
          "text": [
            "Final output:\n",
            " [[0.56320318]]\n"
          ]
        }
      ]
    },
    {
      "cell_type": "markdown",
      "source": [
        "#Step 5 : Example Execution\n",
        "\n",
        "###It demonstrates an example execution of the forward pass for the first row of the dataset df, using the initialized parameters."
      ],
      "metadata": {
        "id": "c3stEx898-tG"
      }
    },
    {
      "cell_type": "code",
      "source": [
        "# Example execution\n",
        "# Example execution\n",
        "X_example = np.array([[1], [2010], [0]])  # First row of the dataset\n",
        "AL, caches = L_layer_forward(X_example, parameters)\n",
        "print(\"Final output:\\n\", AL)\n",
        "\n"
      ],
      "metadata": {
        "colab": {
          "base_uri": "https://localhost:8080/"
        },
        "id": "oA0cFFSO896Y",
        "outputId": "07defe58-2671-472b-8253-3f44683aa2ab"
      },
      "execution_count": 6,
      "outputs": [
        {
          "output_type": "stream",
          "name": "stdout",
          "text": [
            "Final output:\n",
            " [[0.56320318]]\n"
          ]
        }
      ]
    },
    {
      "cell_type": "markdown",
      "source": [
        "#**Well Done :)**"
      ],
      "metadata": {
        "id": "ZWTnuk3x9SF6"
      }
    }
  ]
}