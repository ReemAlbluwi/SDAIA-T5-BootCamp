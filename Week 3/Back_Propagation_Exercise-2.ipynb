{
  "nbformat": 4,
  "nbformat_minor": 0,
  "metadata": {
    "colab": {
      "provenance": []
    },
    "kernelspec": {
      "name": "python3",
      "display_name": "Python 3"
    },
    "language_info": {
      "name": "python"
    }
  },
  "cells": [
    {
      "cell_type": "markdown",
      "source": [
        "#**Back Propagation**"
      ],
      "metadata": {
        "id": "E9uCkFiBGnWc"
      }
    },
    {
      "cell_type": "markdown",
      "source": [
        "#Step 1 : import libraries"
      ],
      "metadata": {
        "id": "U02xjPIyG1cZ"
      }
    },
    {
      "cell_type": "code",
      "source": [
        "import numpy as np\n",
        "import pandas as pd\n",
        "from sklearn.model_selection import train_test_split\n",
        "from sklearn.preprocessing import StandardScaler\n",
        "import matplotlib.pyplot as plt\n"
      ],
      "metadata": {
        "id": "Fx3E4_efG5Do"
      },
      "execution_count": 44,
      "outputs": []
    },
    {
      "cell_type": "markdown",
      "source": [
        "#Step 2 :Load the Dataset\n",
        "###Upload palmer penguins dataset \" / LAB/ Dataset/ penguins.csv\n",
        "\n",
        "\n",
        "\n"
      ],
      "metadata": {
        "id": "eHvhfU6MGtpk"
      }
    },
    {
      "cell_type": "code",
      "execution_count": 62,
      "metadata": {
        "id": "btqadzfLGmQD",
        "colab": {
          "base_uri": "https://localhost:8080/"
        },
        "outputId": "5ccae39c-4095-4623-99a9-20c774ab176c"
      },
      "outputs": [
        {
          "output_type": "stream",
          "name": "stdout",
          "text": [
            "  species     island  bill_length_mm  bill_depth_mm  flipper_length_mm  \\\n",
            "0  Adelie  Torgersen            39.1           18.7              181.0   \n",
            "1  Adelie  Torgersen            39.5           17.4              186.0   \n",
            "2  Adelie  Torgersen            40.3           18.0              195.0   \n",
            "3  Adelie  Torgersen             NaN            NaN                NaN   \n",
            "4  Adelie  Torgersen            36.7           19.3              193.0   \n",
            "\n",
            "   body_mass_g     sex  \n",
            "0       3750.0    MALE  \n",
            "1       3800.0  FEMALE  \n",
            "2       3250.0  FEMALE  \n",
            "3          NaN     NaN  \n",
            "4       3450.0  FEMALE  \n"
          ]
        }
      ],
      "source": [
        "# Load dataset\n",
        "data = pd.read_csv('/content/penguins-2.csv')\n",
        "\n",
        "\n",
        "# Drop target column and convert to float\n",
        "X = data.drop('species', axis=1)\n",
        "y = data['species']\n",
        "\n",
        "X = X.apply(pd.to_numeric, errors='coerce')\n",
        "X.fillna(0, inplace=True)\n",
        "\n",
        "# Scale data\n",
        "scaler = StandardScaler()\n",
        "X_scaled = scaler.fit_transform(X)\n",
        "\n",
        "# Dividing the dataset into target variable and features\n",
        "print(data.head())\n"
      ]
    },
    {
      "cell_type": "markdown",
      "source": [
        "#Step 3: Split Dataset in Training and Testing\n"
      ],
      "metadata": {
        "id": "cuyxnZAWHIGk"
      }
    },
    {
      "cell_type": "code",
      "source": [
        "# Split dataset into training and test sets\n",
        "X_train, X_test, y_train, y_test = train_test_split(X_scaled, y, test_size=0.2, random_state=42)\n",
        "print(X_train.shape, X_test.shape, y_train.shape, y_test.shape)\n"
      ],
      "metadata": {
        "id": "TMNbaJekHCid",
        "colab": {
          "base_uri": "https://localhost:8080/"
        },
        "outputId": "56ee7256-4136-4a76-80ab-8a29228790e4"
      },
      "execution_count": 63,
      "outputs": [
        {
          "output_type": "stream",
          "name": "stdout",
          "text": [
            "(275, 6) (69, 6) (275,) (69,)\n"
          ]
        }
      ]
    },
    {
      "cell_type": "markdown",
      "source": [
        "# Step 4 : initializing the hyperparameters"
      ],
      "metadata": {
        "id": "yfoa5GAXHhUD"
      }
    },
    {
      "cell_type": "code",
      "source": [
        "# Input features\n",
        "input_size = X_train.shape[1]\n",
        "# Hidden layers\n",
        "hidden_size = 20\n",
        "# Output layer\n",
        "output_size = len(np.unique(y))\n",
        "learning_rate = 0.001\n",
        "iterations =  9000\n"
      ],
      "metadata": {
        "id": "gCYVcC4THc7i"
      },
      "execution_count": 81,
      "outputs": []
    },
    {
      "cell_type": "markdown",
      "source": [
        "#Step 5 : Initialize Weights"
      ],
      "metadata": {
        "id": "IHrgBvH7HtCr"
      }
    },
    {
      "cell_type": "code",
      "source": [
        "def initialize_weights(input_size, hidden_size, output_size):\n",
        "    np.random.seed(42)\n",
        "    W1 = np.random.randn(hidden_size, input_size) * 0.01\n",
        "    b1 = np.zeros((hidden_size, 1))\n",
        "    W2 = np.random.randn(output_size, hidden_size) * 0.01\n",
        "    b2 = np.zeros((output_size, 1))\n",
        "    return W1, b1, W2, b2\n",
        "\n",
        "W1, b1, W2, b2 = initialize_weights(input_size, hidden_size, output_size)\n"
      ],
      "metadata": {
        "id": "RAba9ZSXHwvm"
      },
      "execution_count": 82,
      "outputs": []
    },
    {
      "cell_type": "markdown",
      "source": [
        "#Step 6 : mean squared error, accuracy and sigmoid.\n",
        "\n"
      ],
      "metadata": {
        "id": "IE37VIICH1QA"
      }
    },
    {
      "cell_type": "code",
      "source": [
        "def sigmoid(z):\n",
        "    return 1 / (1 + np.exp(-np.clip(z, -500, 500)))\n",
        "\n",
        "def sigmoid_derivative(z):\n",
        "    return z * (1 - z)\n",
        "\n",
        "def mean_squared_error(y_true, y_pred):\n",
        "    return np.mean((y_true - y_pred) ** 2)\n",
        "\n",
        "def one_hot_encode(y):\n",
        "    return pd.get_dummies(y).values\n",
        "\n",
        "def accuracy(y_true, y_pred):\n",
        "    return np.mean(y_true == y_pred)\n"
      ],
      "metadata": {
        "id": "sLYRpQ-HH0ms"
      },
      "execution_count": 83,
      "outputs": []
    },
    {
      "cell_type": "markdown",
      "source": [
        "#Step 7 : Building the Backpropogation Model in Python\n",
        "###We will create a for loop for a given number of iterations and will update the weights in each iteration. The model will go through three phases feedforward propagation, the error calculation phase, and the backpropagation phase.\n"
      ],
      "metadata": {
        "id": "g1AZMCfcIqMi"
      }
    },
    {
      "cell_type": "code",
      "source": [
        "# Training loop\n",
        "mse_history = []\n",
        "accuracy_history = []\n",
        "\n",
        "X_train = X_train.T  # Convert to numpy array and transpose\n",
        "y_train_encoded = one_hot_encode(y_train).T\n",
        "\n",
        "for i in range(iterations):\n",
        "    # Feedforward propagation\n",
        "    Z1 = np.dot(W1, X_train) + b1\n",
        "    A1 = sigmoid(Z1)\n",
        "    Z2 = np.dot(W2, A1) + b2\n",
        "    A2 = sigmoid(Z2)\n",
        "\n",
        "    # Calculate error\n",
        "    error = mean_squared_error(y_train_encoded, A2)\n",
        "    mse_history.append(error)\n",
        "\n",
        "    # Backpropagation\n",
        "    dZ2 = A2 - y_train_encoded\n",
        "    dW2 = np.dot(dZ2, A1.T) / X_train.shape[1]\n",
        "    db2 = np.sum(dZ2, axis=1, keepdims=True) / X_train.shape[1]\n",
        "\n",
        "    dA1 = np.dot(W2.T, dZ2)\n",
        "    dZ1 = dA1 * sigmoid_derivative(A1)\n",
        "    dW1 = np.dot(dZ1, X_train.T) / X_train.shape[1]\n",
        "    db1 = np.sum(dZ1, axis=1, keepdims=True) / X_train.shape[1]\n",
        "\n",
        "    # Update weights\n",
        "    W1 -= learning_rate * dW1\n",
        "    b1 -= learning_rate * db1\n",
        "    W2 -= learning_rate * dW2\n",
        "    b2 -= learning_rate * db2\n",
        "\n",
        "    # Calculate accuracy\n",
        "    predictions = np.argmax(A2, axis=0)\n",
        "    acc = accuracy(np.argmax(y_train_encoded, axis=0), predictions)\n",
        "    accuracy_history.append(acc)\n",
        "\n",
        "    if i % 100 == 0:\n",
        "        print(f\"Iteration {i}: MSE = {error}, Accuracy = {acc}\")\n"
      ],
      "metadata": {
        "id": "B-bjwuX2ILsm",
        "colab": {
          "base_uri": "https://localhost:8080/"
        },
        "outputId": "a89737ac-5ddf-4fc1-8233-cbec16304223"
      },
      "execution_count": 84,
      "outputs": [
        {
          "output_type": "stream",
          "name": "stdout",
          "text": [
            "Iteration 0: MSE = 0.25085203185608307, Accuracy = 0.37454545454545457\n",
            "Iteration 100: MSE = 0.24056568377874005, Accuracy = 0.37454545454545457\n",
            "Iteration 200: MSE = 0.23301274036326683, Accuracy = 0.43636363636363634\n",
            "Iteration 300: MSE = 0.22748283784909842, Accuracy = 0.43636363636363634\n",
            "Iteration 400: MSE = 0.22342625655643106, Accuracy = 0.43636363636363634\n",
            "Iteration 500: MSE = 0.2204362068601197, Accuracy = 0.43636363636363634\n",
            "Iteration 600: MSE = 0.21821830889226518, Accuracy = 0.43636363636363634\n",
            "Iteration 700: MSE = 0.21656151754863934, Accuracy = 0.43636363636363634\n",
            "Iteration 800: MSE = 0.21531480312391757, Accuracy = 0.43636363636363634\n",
            "Iteration 900: MSE = 0.21436980166519393, Accuracy = 0.43636363636363634\n",
            "Iteration 1000: MSE = 0.21364836338060897, Accuracy = 0.43636363636363634\n",
            "Iteration 1100: MSE = 0.21309376375209868, Accuracy = 0.43636363636363634\n",
            "Iteration 1200: MSE = 0.21266453743512137, Accuracy = 0.43636363636363634\n",
            "Iteration 1300: MSE = 0.21233015233269958, Accuracy = 0.43636363636363634\n",
            "Iteration 1400: MSE = 0.21206796408615053, Accuracy = 0.43636363636363634\n",
            "Iteration 1500: MSE = 0.2118610602058744, Accuracy = 0.43636363636363634\n",
            "Iteration 1600: MSE = 0.21169672390017288, Accuracy = 0.43636363636363634\n",
            "Iteration 1700: MSE = 0.2115653316739226, Accuracy = 0.43636363636363634\n",
            "Iteration 1800: MSE = 0.21145955643725242, Accuracy = 0.43636363636363634\n",
            "Iteration 1900: MSE = 0.2113737872746829, Accuracy = 0.43636363636363634\n",
            "Iteration 2000: MSE = 0.21130370397192044, Accuracy = 0.43636363636363634\n",
            "Iteration 2100: MSE = 0.21124596288621778, Accuracy = 0.43636363636363634\n",
            "Iteration 2200: MSE = 0.21119796349824238, Accuracy = 0.43636363636363634\n",
            "Iteration 2300: MSE = 0.21115767383394451, Accuracy = 0.43636363636363634\n",
            "Iteration 2400: MSE = 0.21112349912963516, Accuracy = 0.43636363636363634\n",
            "Iteration 2500: MSE = 0.21109418246595127, Accuracy = 0.43636363636363634\n",
            "Iteration 2600: MSE = 0.21106872918123973, Accuracy = 0.43636363636363634\n",
            "Iteration 2700: MSE = 0.21104634907669564, Accuracy = 0.43636363636363634\n",
            "Iteration 2800: MSE = 0.2110264120079091, Accuracy = 0.43636363636363634\n",
            "Iteration 2900: MSE = 0.21100841360214775, Accuracy = 0.43636363636363634\n",
            "Iteration 3000: MSE = 0.21099194867407206, Accuracy = 0.43636363636363634\n",
            "Iteration 3100: MSE = 0.21097669052301943, Accuracy = 0.43636363636363634\n",
            "Iteration 3200: MSE = 0.21096237474476448, Accuracy = 0.43636363636363634\n",
            "Iteration 3300: MSE = 0.2109487865239126, Accuracy = 0.43636363636363634\n",
            "Iteration 3400: MSE = 0.21093575062132444, Accuracy = 0.43636363636363634\n",
            "Iteration 3500: MSE = 0.210923123456837, Accuracy = 0.43636363636363634\n",
            "Iteration 3600: MSE = 0.21091078682740227, Accuracy = 0.43636363636363634\n",
            "Iteration 3700: MSE = 0.21089864290649318, Accuracy = 0.43636363636363634\n",
            "Iteration 3800: MSE = 0.21088661025092395, Accuracy = 0.43636363636363634\n",
            "Iteration 3900: MSE = 0.21087462060247902, Accuracy = 0.43636363636363634\n",
            "Iteration 4000: MSE = 0.21086261631866374, Accuracy = 0.43636363636363634\n",
            "Iteration 4100: MSE = 0.21085054830297525, Accuracy = 0.43636363636363634\n",
            "Iteration 4200: MSE = 0.2108383743329585, Accuracy = 0.43636363636363634\n",
            "Iteration 4300: MSE = 0.21082605770591334, Accuracy = 0.43636363636363634\n",
            "Iteration 4400: MSE = 0.2108135661389237, Accuracy = 0.43636363636363634\n",
            "Iteration 4500: MSE = 0.21080087087300353, Accuracy = 0.43636363636363634\n",
            "Iteration 4600: MSE = 0.2107879459414357, Accuracy = 0.43636363636363634\n",
            "Iteration 4700: MSE = 0.21077476757046404, Accuracy = 0.43636363636363634\n",
            "Iteration 4800: MSE = 0.2107613136868743, Accuracy = 0.43636363636363634\n",
            "Iteration 4900: MSE = 0.21074756351204416, Accuracy = 0.43636363636363634\n",
            "Iteration 5000: MSE = 0.21073349722604542, Accuracy = 0.43636363636363634\n",
            "Iteration 5100: MSE = 0.21071909568856853, Accuracy = 0.43636363636363634\n",
            "Iteration 5200: MSE = 0.21070434020598028, Accuracy = 0.43636363636363634\n",
            "Iteration 5300: MSE = 0.2106892123358617, Accuracy = 0.43636363636363634\n",
            "Iteration 5400: MSE = 0.21067369372200492, Accuracy = 0.43636363636363634\n",
            "Iteration 5500: MSE = 0.21065776595415972, Accuracy = 0.43636363636363634\n",
            "Iteration 5600: MSE = 0.2106414104478788, Accuracy = 0.43636363636363634\n",
            "Iteration 5700: MSE = 0.21062460834066452, Accuracy = 0.43636363636363634\n",
            "Iteration 5800: MSE = 0.21060734040131304, Accuracy = 0.43636363636363634\n",
            "Iteration 5900: MSE = 0.21058958694990965, Accuracy = 0.43636363636363634\n",
            "Iteration 6000: MSE = 0.21057132778638746, Accuracy = 0.43636363636363634\n",
            "Iteration 6100: MSE = 0.2105525421259307, Accuracy = 0.43636363636363634\n",
            "Iteration 6200: MSE = 0.2105332085398057, Accuracy = 0.43636363636363634\n",
            "Iteration 6300: MSE = 0.21051330490045103, Accuracy = 0.43636363636363634\n",
            "Iteration 6400: MSE = 0.21049280832985695, Accuracy = 0.43636363636363634\n",
            "Iteration 6500: MSE = 0.2104716951504321, Accuracy = 0.43636363636363634\n",
            "Iteration 6600: MSE = 0.21044994083768842, Accuracy = 0.43636363636363634\n",
            "Iteration 6700: MSE = 0.210427519974187, Accuracy = 0.43636363636363634\n",
            "Iteration 6800: MSE = 0.21040440620427808, Accuracy = 0.43636363636363634\n",
            "Iteration 6900: MSE = 0.21038057218924464, Accuracy = 0.43636363636363634\n",
            "Iteration 7000: MSE = 0.21035598956251728, Accuracy = 0.43636363636363634\n",
            "Iteration 7100: MSE = 0.210330628884683, Accuracy = 0.43636363636363634\n",
            "Iteration 7200: MSE = 0.2103044595980496, Accuracy = 0.43636363636363634\n",
            "Iteration 7300: MSE = 0.2102774499805612, Accuracy = 0.43636363636363634\n",
            "Iteration 7400: MSE = 0.2102495670988928, Accuracy = 0.43636363636363634\n",
            "Iteration 7500: MSE = 0.2102207767605705, Accuracy = 0.43636363636363634\n",
            "Iteration 7600: MSE = 0.21019104346498807, Accuracy = 0.43636363636363634\n",
            "Iteration 7700: MSE = 0.2101603303532042, Accuracy = 0.43636363636363634\n",
            "Iteration 7800: MSE = 0.21012859915641938, Accuracy = 0.43636363636363634\n",
            "Iteration 7900: MSE = 0.21009581014304396, Accuracy = 0.43636363636363634\n",
            "Iteration 8000: MSE = 0.21006192206427712, Accuracy = 0.43636363636363634\n",
            "Iteration 8100: MSE = 0.21002689209812622, Accuracy = 0.43636363636363634\n",
            "Iteration 8200: MSE = 0.2099906757918036, Accuracy = 0.43636363636363634\n",
            "Iteration 8300: MSE = 0.20995322700244295, Accuracy = 0.43636363636363634\n",
            "Iteration 8400: MSE = 0.20991449783608576, Accuracy = 0.43636363636363634\n",
            "Iteration 8500: MSE = 0.2098744385848914, Accuracy = 0.43636363636363634\n",
            "Iteration 8600: MSE = 0.20983299766253138, Accuracy = 0.43636363636363634\n",
            "Iteration 8700: MSE = 0.20979012153773235, Accuracy = 0.43636363636363634\n",
            "Iteration 8800: MSE = 0.2097457546659378, Accuracy = 0.43636363636363634\n",
            "Iteration 8900: MSE = 0.2096998394190639, Accuracy = 0.43636363636363634\n"
          ]
        }
      ]
    },
    {
      "cell_type": "markdown",
      "source": [],
      "metadata": {
        "id": "ByknpjOWJVBv"
      }
    },
    {
      "cell_type": "markdown",
      "source": [
        "# Step 8 : Plot the mean squared error and accuracy using the pandas plot() function.\n",
        "\n"
      ],
      "metadata": {
        "id": "NZitfndrLnI8"
      }
    },
    {
      "cell_type": "code",
      "source": [
        "# Plot the mean squared error and accuracy\n",
        "plt.figure(figsize=(12, 5))\n",
        "\n",
        "plt.subplot(1, 2, 1)\n",
        "plt.plot(mse_history, label='Mean Squared Error')\n",
        "plt.xlabel('Iteration')\n",
        "plt.ylabel('Error')\n",
        "plt.legend()\n",
        "\n",
        "plt.subplot(1, 2, 2)\n",
        "plt.plot(accuracy_history, label='Accuracy')\n",
        "plt.xlabel('Iteration')\n",
        "plt.ylabel('Accuracy')\n",
        "plt.legend()\n",
        "\n",
        "plt.show()\n"
      ],
      "metadata": {
        "id": "1f6f-aMMLsfa",
        "colab": {
          "base_uri": "https://localhost:8080/",
          "height": 465
        },
        "outputId": "901f4345-34d7-49f0-ca32-b16ef6c538d1"
      },
      "execution_count": 87,
      "outputs": [
        {
          "output_type": "display_data",
          "data": {
            "text/plain": [
              "<Figure size 1200x500 with 2 Axes>"
            ],
            "image/png": "[encoded data removed]"
          },
          "metadata": {}
        }
      ]
    },
    {
      "cell_type": "markdown",
      "source": [
        "###Now we will calculate the accuracy of the model.\n",
        "\n"
      ],
      "metadata": {
        "id": "M1ES5bR_Lzy1"
      }
    },
    {
      "cell_type": "code",
      "source": [
        "# Test the model\n",
        "X_test = X_test.T  # Convert to numpy array and transpose\n",
        "Z1_test = np.dot(W1, X_test) + b1\n",
        "A1_test = sigmoid(Z1_test)\n",
        "Z2_test = np.dot(W2, A1_test) + b2\n",
        "A2_test = sigmoid(Z2_test)\n",
        "\n",
        "predictions_test = np.argmax(A2_test, axis=0)\n",
        "y_test_encoded = one_hot_encode(y_test)\n",
        "test_acc = accuracy(np.argmax(y_test_encoded, axis=1), predictions_test)\n",
        "print(f\"Test Accuracy: {test_acc}\")\n"
      ],
      "metadata": {
        "id": "_YvQLRVRLzK9",
        "colab": {
          "base_uri": "https://localhost:8080/"
        },
        "outputId": "6b5db465-cf60-4b3f-b5cc-e20555eeb9e2"
      },
      "execution_count": 88,
      "outputs": [
        {
          "output_type": "stream",
          "name": "stdout",
          "text": [
            "Test Accuracy: 0.463768115942029\n"
          ]
        }
      ]
    },
    {
      "cell_type": "markdown",
      "source": [
        "#**Well Done :)**"
      ],
      "metadata": {
        "id": "b0uAIhZlLx6h"
      }
    }
  ]
}